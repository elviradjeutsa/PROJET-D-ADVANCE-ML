{
 "cells": [
  {
   "cell_type": "code",
   "execution_count": 1,
   "id": "e79ec76a-0b97-4e45-aee6-c1fed9e5ba69",
   "metadata": {},
   "outputs": [],
   "source": [
    "import pandas as pd\n",
    "import numpy as np"
   ]
  },
  {
   "cell_type": "code",
   "execution_count": 2,
   "id": "837ea2b4-acf5-407d-acc1-7710e5a2d006",
   "metadata": {},
   "outputs": [
    {
     "name": "stderr",
     "output_type": "stream",
     "text": [
      "/tmp/ipykernel_6944/1633524087.py:1: DtypeWarning: Columns (10) have mixed types. Specify dtype option on import or set low_memory=False.\n",
      "  data22 = pd.read_csv(\"base_ano22.csv\", sep=\",\")\n",
      "/tmp/ipykernel_6944/1633524087.py:2: DtypeWarning: Columns (10) have mixed types. Specify dtype option on import or set low_memory=False.\n",
      "  data23 = pd.read_csv(\"base_ano23.csv\", sep=\",\")\n"
     ]
    }
   ],
   "source": [
    "data22 = pd.read_csv(\"base_ano22.csv\", sep=\",\")\n",
    "data23 = pd.read_csv(\"base_ano23.csv\", sep=\",\")\n",
    "data24 = pd.read_csv(\"base_ano24.csv\", sep=\",\")"
   ]
  },
  {
   "cell_type": "markdown",
   "id": "f63b8ef6-a968-43a1-b666-2eabb1407d79",
   "metadata": {},
   "source": [
    "# Data treatment"
   ]
  },
  {
   "cell_type": "markdown",
   "id": "413d15f0-1a94-4c7c-8450-3cc3340d29b3",
   "metadata": {},
   "source": [
    "## 1) Preparing data before merging the dataframes from the years 2022, 2023 and 2024 together"
   ]
  },
  {
   "cell_type": "markdown",
   "id": "bec74d00-d137-4749-87b9-5a23a3a1ea85",
   "metadata": {},
   "source": [
    "No missing value in all dataframes"
   ]
  },
  {
   "cell_type": "code",
   "execution_count": 3,
   "id": "3a5d70e4-4ec5-42c9-8a04-eaa68a641b57",
   "metadata": {},
   "outputs": [
    {
     "data": {
      "text/plain": [
       "np.int64(0)"
      ]
     },
     "execution_count": 3,
     "metadata": {},
     "output_type": "execute_result"
    }
   ],
   "source": [
    "data24['tranche_age23'].isna().sum()"
   ]
  },
  {
   "cell_type": "code",
   "execution_count": 4,
   "id": "8a419d01-ef47-4c3b-a731-278d42b58b8c",
   "metadata": {},
   "outputs": [],
   "source": [
    "data22['nb_occ_id'] = data22.groupby('id_personne')['id_personne'].transform('count')\n",
    "data23['nb_occ_id'] = data23.groupby('id_personne')['id_personne'].transform('count')\n",
    "data24['nb_occ_id'] = data24.groupby('id_personne')['id_personne'].transform('count')"
   ]
  },
  {
   "cell_type": "markdown",
   "id": "c4345901-78e3-4d31-90b2-8e900a8e6c96",
   "metadata": {},
   "source": [
    "contain the rows from doublons22 where, for each group of 'id_personne', 'annee_soins', and 'Mois_soins', the 'sum_pres' value is the maximum within that group."
   ]
  },
  {
   "cell_type": "markdown",
   "id": "43d75f4c-8a92-4b4f-b853-8d8e4c0e0309",
   "metadata": {},
   "source": [
    "Doublons contains all the rows from the dataframes that have duplicate values in the 'id_personne', 'annee_soins', 'Mois_soins' and 'delta' columns."
   ]
  },
  {
   "cell_type": "markdown",
   "id": "348c69f8-22f3-437e-a98f-664c250d9719",
   "metadata": {},
   "source": [
    "## ?"
   ]
  },
  {
   "cell_type": "code",
   "execution_count": 5,
   "id": "975fb74e-4026-4b3e-a0b8-a742d9559102",
   "metadata": {},
   "outputs": [],
   "source": [
    "doublons22 = data22[data22.duplicated(subset=['id_personne', 'annee_soins', 'Mois_soins', 'delta'], keep=False)]\n",
    "doublons23 = data23[data23.duplicated(subset=['id_personne', 'annee_soins', 'Mois_soins', 'delta'], keep=False)]\n",
    "doublons24 = data24[data24.duplicated(subset=['id_personne', 'annee_soins', 'Mois_soins', 'delta'], keep=False)]"
   ]
  },
  {
   "cell_type": "markdown",
   "id": "c7930d7d-7dd2-47ae-9cb3-66c501d0d320",
   "metadata": {},
   "source": [
    "Resultat contain the rows from doublons where, for each group of 'id_personne', 'annee_soins', and 'Mois_soins', the 'sum_pres' value is the maximum within that group."
   ]
  },
  {
   "cell_type": "code",
   "execution_count": 6,
   "id": "9a583236-2702-4c32-80a0-a9f0e78131a5",
   "metadata": {},
   "outputs": [],
   "source": [
    "results22 = doublons22.loc[doublons22.groupby(['id_personne', 'annee_soins', 'Mois_soins'])['sum_pres'].idxmax()]\n",
    "results23 = doublons23.loc[doublons23.groupby(['id_personne', 'annee_soins', 'Mois_soins'])['sum_pres'].idxmax()]\n",
    "results24 = doublons24.loc[doublons24.groupby(['id_personne', 'annee_soins', 'Mois_soins'])['sum_pres'].idxmax()]"
   ]
  },
  {
   "cell_type": "markdown",
   "id": "8dd85d79-88a8-44bb-a796-51a58d044ec9",
   "metadata": {},
   "source": [
    "We remove the rows in doublons that are not in results"
   ]
  },
  {
   "cell_type": "code",
   "execution_count": 7,
   "id": "080071f6-079a-416c-b79a-a3a34e3c3146",
   "metadata": {},
   "outputs": [],
   "source": [
    "index_to_drop22 = list(set(doublons22.index) - set(results22.index))\n",
    "data22 = data22.drop(index_to_drop22)\n",
    "index_to_drop23 = list(set(doublons23.index) - set(results23.index))\n",
    "data23 = data23.drop(index_to_drop23)\n",
    "index_to_drop24 = list(set(doublons24.index) - set(results24.index))\n",
    "data24 = data24.drop(index_to_drop24)"
   ]
  },
  {
   "cell_type": "markdown",
   "id": "dd81c682-3aad-4678-8bc4-f595c6c9a6fa",
   "metadata": {},
   "source": [
    "We replace the values in the 'sum_pres' column of the data DataFrame with the maximum 'sum_pres' value within each 'id_personne' group."
   ]
  },
  {
   "cell_type": "markdown",
   "id": "3f47639f-1995-43fd-9dcf-8df2f30b8a6e",
   "metadata": {},
   "source": [
    "## ?"
   ]
  },
  {
   "cell_type": "code",
   "execution_count": 8,
   "id": "df85ef67-b016-4ad8-a2c5-937a4d8088bd",
   "metadata": {},
   "outputs": [],
   "source": [
    "data22['sum_pres'] = data22.groupby('id_personne')['sum_pres'].transform('max')\n",
    "data23['sum_pres'] = data23.groupby('id_personne')['sum_pres'].transform('max')\n",
    "data24['sum_pres'] = data24.groupby('id_personne')['sum_pres'].transform('max')"
   ]
  },
  {
   "cell_type": "markdown",
   "id": "7689a206-df63-4f1a-9ba7-ce102cb76f4d",
   "metadata": {},
   "source": [
    "## ?"
   ]
  },
  {
   "cell_type": "code",
   "execution_count": 9,
   "id": "b4900b2f-d18a-4a3e-846d-79b7e0dda764",
   "metadata": {},
   "outputs": [],
   "source": [
    "data22 = data22[~((data22['annee_soins'] == 0) & (data22['nb_occ_id'] != 1))]\n",
    "data23 = data23[~((data23['annee_soins'] == 0) & (data23['nb_occ_id'] != 1))]\n",
    "data24 = data24[~((data24['annee_soins'] == 0) & (data24['nb_occ_id'] != 1))]"
   ]
  },
  {
   "cell_type": "markdown",
   "id": "def53365-df8d-4054-84e1-eddc41b6811c",
   "metadata": {},
   "source": [
    "Encoding the genre values"
   ]
  },
  {
   "cell_type": "code",
   "execution_count": 10,
   "id": "4fe3395f-b0c4-4f3b-a913-d6b43f4685bf",
   "metadata": {},
   "outputs": [],
   "source": [
    "# data22['genre'] = data22['genre'].replace({'Homme': 0, 'Femme': 1, 'Enfant': 2})\n",
    "# data23['genre'] = data23['genre'].replace({'Homme': 0, 'Femme': 1, 'Enfant': 2})\n",
    "# data24['genre'] = data24['genre'].replace({'Homme': 0, 'Femme': 1, 'Enfant': 2})"
   ]
  },
  {
   "cell_type": "markdown",
   "id": "c39a7f2c-3318-499e-9784-8c3145eb4606",
   "metadata": {},
   "source": [
    "Wa create 2 new variables : ra is the average refund and fra is the average amount left to pay to the client"
   ]
  },
  {
   "cell_type": "code",
   "execution_count": 11,
   "id": "8da066d6-761d-44ab-b8ed-7d3c54949b36",
   "metadata": {},
   "outputs": [],
   "source": [
    "data22['ra'] = np.where(data22['nb_acte'] != 0, data22['remb_mutuelle'] / data22['nb_acte'], 0)\n",
    "data23['ra'] = np.where(data23['nb_acte'] != 0, data23['remb_mutuelle'] / data23['nb_acte'], 0)\n",
    "data24['ra'] = np.where(data24['nb_acte'] != 0, data24['remb_mutuelle'] / data24['nb_acte'], 0)\n",
    "\n",
    "data22['fra'] = np.where(data22['nb_acte'] != 0, data22['frais_reels'] / data22['nb_acte'], 0)\n",
    "data23['fra'] = np.where(data23['nb_acte'] != 0, data23['frais_reels'] / data23['nb_acte'], 0)\n",
    "data24['fra'] = np.where(data24['nb_acte'] != 0, data24['frais_reels'] / data24['nb_acte'], 0)"
   ]
  },
  {
   "cell_type": "markdown",
   "id": "57c944a6-f42d-497b-89f7-be31377787d1",
   "metadata": {},
   "source": [
    "We create new columns to get the amount paid and perceived from the insurance for each month, we then do the same for the \"fra\" and \"delta\" variables"
   ]
  },
  {
   "cell_type": "markdown",
   "id": "4459a5f5-51be-466f-bffd-22db48b788b6",
   "metadata": {},
   "source": [
    "## ? mois 0"
   ]
  },
  {
   "cell_type": "code",
   "execution_count": 12,
   "id": "6a19c9e6-4e3d-4238-bed5-e78deef0df77",
   "metadata": {},
   "outputs": [],
   "source": [
    "for mois in range(1, 13):\n",
    "    mois_str = str(mois).zfill(2)\n",
    "    nom_variable = 'ra_' + mois_str + '22' \n",
    "    data22[nom_variable] = data22.loc[data22['Mois_soins'] == float(mois), 'ra']\n",
    "\n",
    "for mois in range(1, 13):\n",
    "    mois_str = str(mois).zfill(2) \n",
    "    nom_variable = 'ra_' + mois_str + '23' \n",
    "    data23[nom_variable] = data23.loc[data23['Mois_soins'] == float(mois), 'ra']\n",
    "\n",
    "for mois in range(1, 9):\n",
    "    mois_str = str(mois).zfill(2) \n",
    "    nom_variable = 'ra_' + mois_str + '24' \n",
    "    data24[nom_variable] = data24.loc[data24['Mois_soins'] == float(mois), 'ra']"
   ]
  },
  {
   "cell_type": "code",
   "execution_count": 13,
   "id": "4b00c673-a8f4-4e28-ad7f-e263687d86ca",
   "metadata": {},
   "outputs": [],
   "source": [
    "for mois in range(1, 13):\n",
    "    mois_str = str(mois).zfill(2)\n",
    "    nom_variable = 'fra_' + mois_str + '22' \n",
    "    data22[nom_variable] = data22.loc[data22['Mois_soins'] == float(mois), 'fra']\n",
    "\n",
    "for mois in range(1, 13):\n",
    "    mois_str = str(mois).zfill(2) \n",
    "    nom_variable = 'fra_' + mois_str + '23' \n",
    "    data23[nom_variable] = data23.loc[data23['Mois_soins'] == float(mois), 'fra']\n",
    "\n",
    "for mois in range(1, 9):\n",
    "    mois_str = str(mois).zfill(2) \n",
    "    nom_variable = 'fra_' + mois_str + '24' \n",
    "    data24[nom_variable] = data24.loc[data24['Mois_soins'] == float(mois), 'fra']"
   ]
  },
  {
   "cell_type": "code",
   "execution_count": 14,
   "id": "96869f62-026d-462b-a843-ee29ac80bb6f",
   "metadata": {},
   "outputs": [],
   "source": [
    "for mois in range(1, 13):\n",
    "    mois_str = str(mois).zfill(2)  \n",
    "    nom_variable = 'delta_' + mois_str + '22' \n",
    "    data22[nom_variable] = data22.loc[data22['Mois_soins'] == float(mois), 'delta']\n",
    "\n",
    "for mois in range(1, 13):\n",
    "    mois_str = str(mois).zfill(2)  \n",
    "    nom_variable = 'delta_' + mois_str + '23' \n",
    "    data23[nom_variable] = data23.loc[data23['Mois_soins'] == float(mois), 'delta']\n",
    "\n",
    "for mois in range(1, 9):\n",
    "    mois_str = str(mois).zfill(2)  \n",
    "    nom_variable = 'delta_' + mois_str  + '24' \n",
    "    data24[nom_variable] = data24.loc[data24['Mois_soins'] == float(mois), 'delta']"
   ]
  },
  {
   "cell_type": "markdown",
   "id": "f95970be-20a6-48ff-9f27-b627e7b5260c",
   "metadata": {},
   "source": [
    "We now aggregate each dataframe on the 'id_personne' column to then merge them together"
   ]
  },
  {
   "cell_type": "code",
   "execution_count": 15,
   "id": "cf5b04b8-73f6-4593-b268-c2b39becf35e",
   "metadata": {},
   "outputs": [],
   "source": [
    "data22_agg= data22.groupby('id_personne').agg({\n",
    "    'entite_eco': 'first', \n",
    "    'personne_morale': 'first',\n",
    "    'annee_soins': 'first',\n",
    "    'colloc': 'first',\n",
    "    'adh_fac':'first', # why first?\n",
    "    'type_cont':'first',\n",
    "    'genre': 'first',\n",
    "    'code_postal': 'first',\n",
    "    'Age22': 'first',\n",
    "    'type_benef': 'first',\n",
    "    'tranche_age22': 'first',\n",
    "    'Foyer22': 'first',\n",
    "    'code_postal': 'first',\n",
    "    'rg_benef': 'first',\n",
    "    'PRES2201': 'max',\n",
    "    'PRES2202': 'max',\n",
    "    'PRES2203': 'max', # why max?\n",
    "    'PRES2204': 'max',\n",
    "    'PRES2205': 'max',\n",
    "    'PRES2206': 'max',\n",
    "    'PRES2207': 'max',\n",
    "    'PRES2208': 'max',\n",
    "    'PRES2209': 'max',\n",
    "    'PRES2210': 'max',\n",
    "    'PRES2211': 'max',\n",
    "    'PRES2212': 'max',\n",
    "    'nb_occ_id': 'first',\n",
    "    'ra_0122': 'sum', \n",
    "    'ra_0222': 'sum',\n",
    "    'ra_0322': 'sum',\n",
    "    'ra_0422': 'sum', \n",
    "    'ra_0522': 'sum', \n",
    "    'ra_0622': 'sum',\n",
    "    'ra_0722': 'sum', \n",
    "    'ra_0822': 'sum', \n",
    "    'ra_0922': 'sum',\n",
    "    'ra_1022': 'sum', \n",
    "    'ra_1122': 'sum', \n",
    "    'ra_1222': 'sum',\n",
    "    'fra_0122': 'sum', \n",
    "    'fra_0222': 'sum', \n",
    "    'fra_0322': 'sum',\n",
    "    'fra_0422': 'sum', \n",
    "    'fra_0522': 'sum',\n",
    "    'fra_0622': 'sum',\n",
    "    'fra_0722': 'sum', \n",
    "    'fra_0822': 'sum', \n",
    "    'fra_0922': 'sum',\n",
    "    'fra_1022': 'sum', \n",
    "    'fra_1122': 'sum', \n",
    "    'fra_1222': 'sum',\n",
    "    'delta_0122': 'max', \n",
    "    'delta_0222': 'max',\n",
    "    'delta_0322': 'max',\n",
    "    'delta_0422': 'max', \n",
    "    'delta_0522': 'max', \n",
    "    'delta_0622': 'max',\n",
    "    'delta_0722': 'max', \n",
    "    'delta_0822': 'max', \n",
    "    'delta_0922': 'max',\n",
    "    'delta_1022': 'max', \n",
    "    'delta_1122': 'max', \n",
    "    'delta_1222': 'max',\n",
    "})"
   ]
  },
  {
   "cell_type": "code",
   "execution_count": 16,
   "id": "2e5b5699-3071-4936-aabf-52d9ffa2a443",
   "metadata": {},
   "outputs": [],
   "source": [
    "data23_agg= data23.groupby('id_personne').agg({\n",
    "    'entite_eco': 'first', \n",
    "    'personne_morale': 'first',\n",
    "    'annee_soins': 'first',\n",
    "    'colloc': 'first',\n",
    "    'adh_fac':'first', # why first?\n",
    "    'type_cont':'first',\n",
    "    'genre': 'first',\n",
    "    'code_postal': 'first',\n",
    "    'Age23': 'first',\n",
    "    'type_benef': 'first',\n",
    "    'tranche_age23': 'first',\n",
    "    'Foyer23': 'first',\n",
    "    'code_postal': 'first',\n",
    "    'rg_benef': 'first',\n",
    "    'PRES2301': 'max',\n",
    "    'PRES2302': 'max',\n",
    "    'PRES2303': 'max', # why max?\n",
    "    'PRES2304': 'max',\n",
    "    'PRES2305': 'max',\n",
    "    'PRES2306': 'max',\n",
    "    'PRES2307': 'max',\n",
    "    'PRES2308': 'max',\n",
    "    'PRES2309': 'max',\n",
    "    'PRES2310': 'max',\n",
    "    'PRES2311': 'max',\n",
    "    'PRES2312': 'max',\n",
    "    'nb_occ_id': 'first',\n",
    "    'ra_0123': 'sum', \n",
    "    'ra_0223': 'sum',\n",
    "    'ra_0323': 'sum',\n",
    "    'ra_0423': 'sum', \n",
    "    'ra_0523': 'sum', \n",
    "    'ra_0623': 'sum',\n",
    "    'ra_0723': 'sum', \n",
    "    'ra_0823': 'sum', \n",
    "    'ra_0923': 'sum',\n",
    "    'ra_1023': 'sum', \n",
    "    'ra_1123': 'sum', \n",
    "    'ra_1223': 'sum',\n",
    "    'fra_0123': 'sum', \n",
    "    'fra_0223': 'sum', \n",
    "    'fra_0323': 'sum',\n",
    "    'fra_0423': 'sum', \n",
    "    'fra_0523': 'sum',\n",
    "    'fra_0623': 'sum',\n",
    "    'fra_0723': 'sum', \n",
    "    'fra_0823': 'sum', \n",
    "    'fra_0923': 'sum',\n",
    "    'fra_1023': 'sum', \n",
    "    'fra_1123': 'sum', \n",
    "    'fra_1223': 'sum',\n",
    "    'delta_0123': 'max', \n",
    "    'delta_0223': 'max',\n",
    "    'delta_0323': 'max',\n",
    "    'delta_0423': 'max', \n",
    "    'delta_0523': 'max', \n",
    "    'delta_0623': 'max',\n",
    "    'delta_0723': 'max', \n",
    "    'delta_0823': 'max', \n",
    "    'delta_0923': 'max',\n",
    "    'delta_1023': 'max', \n",
    "    'delta_1123': 'max', \n",
    "    'delta_1223': 'max',\n",
    "})"
   ]
  },
  {
   "cell_type": "code",
   "execution_count": 17,
   "id": "700cb1eb-d6c4-46ea-b932-5c0984bdf615",
   "metadata": {},
   "outputs": [],
   "source": [
    "data24_agg= data24.groupby('id_personne').agg({\n",
    "    'entite_eco': 'first', \n",
    "    'personne_morale': 'first',\n",
    "    'annee_soins': 'first',\n",
    "    'colloc': 'first',\n",
    "    'adh_fac':'first', # why first?\n",
    "    'type_cont':'first',\n",
    "    'genre': 'first',\n",
    "    'code_postal': 'first',\n",
    "    'Age24': 'first',\n",
    "    'type_benef': 'first',\n",
    "    'tranche_age23': 'first',\n",
    "    'Foyer24': 'first',\n",
    "    'code_postal': 'first',\n",
    "    'rg_benef': 'first',\n",
    "    'PRES2401': 'max',\n",
    "    'PRES2402': 'max',\n",
    "    'PRES2403': 'max', # why max?\n",
    "    'PRES2404': 'max',\n",
    "    'PRES2405': 'max',\n",
    "    'PRES2406': 'max',\n",
    "    'PRES2407': 'max',\n",
    "    'PRES2408': 'max',\n",
    "    'PRES2409': 'max',\n",
    "    'PRES2410': 'max',\n",
    "    'PRES2411': 'max',\n",
    "    'PRES2412': 'max',\n",
    "    'nb_occ_id': 'first',\n",
    "    'ra_0124': 'sum', \n",
    "    'ra_0224': 'sum',\n",
    "    'ra_0324': 'sum',\n",
    "    'ra_0424': 'sum', \n",
    "    'ra_0524': 'sum', \n",
    "    'ra_0624': 'sum',\n",
    "    'ra_0724': 'sum', \n",
    "    'ra_0824': 'sum',  \n",
    "    'fra_0224': 'sum', \n",
    "    'fra_0324': 'sum',\n",
    "    'fra_0424': 'sum', \n",
    "    'fra_0524': 'sum',\n",
    "    'fra_0624': 'sum',\n",
    "    'fra_0724': 'sum', \n",
    "    'fra_0824': 'sum', \n",
    "    'delta_0124': 'max', \n",
    "    'delta_0224': 'max',\n",
    "    'delta_0324': 'max',\n",
    "    'delta_0424': 'max', \n",
    "    'delta_0524': 'max', \n",
    "    'delta_0624': 'max',\n",
    "    'delta_0724': 'max', \n",
    "    'delta_0824': 'max', \n",
    "})"
   ]
  },
  {
   "cell_type": "markdown",
   "id": "84d8de16-e363-4f5d-8977-ee3c8b918e7d",
   "metadata": {},
   "source": [
    "Before merging we replace all the Nans in the ra, fra and delta columns by zero to make the difference between people who did not perceive any money from the insurance and those who where not attached to it after the merge"
   ]
  },
  {
   "cell_type": "code",
   "execution_count": 18,
   "id": "b21cca4b-cb6c-4a07-b310-8e596602e2c2",
   "metadata": {},
   "outputs": [],
   "source": [
    "data22_agg.fillna(0, inplace=True)\n",
    "data23_agg.fillna(0, inplace=True)\n",
    "data24_agg.fillna(0, inplace=True)"
   ]
  },
  {
   "cell_type": "markdown",
   "id": "febc96c9-25ea-4cdb-ba95-cb3eceef3cc9",
   "metadata": {},
   "source": [
    "## 2) Merging the dataframes "
   ]
  },
  {
   "cell_type": "markdown",
   "id": "3386ecf5-a8ba-4edd-834a-0fcb52a566d3",
   "metadata": {},
   "source": [
    "We new proceed to merge the three dataframes while also removing the duplicate columns"
   ]
  },
  {
   "cell_type": "code",
   "execution_count": 19,
   "id": "ff515031-471d-4506-994c-8ab2eee74c54",
   "metadata": {},
   "outputs": [],
   "source": [
    "data22_23_merged = pd.merge(data22_agg, data23_agg, on='id_personne', how='outer', suffixes=('', '_y'))"
   ]
  },
  {
   "cell_type": "markdown",
   "id": "a7e3e674-9c97-4f87-b540-a2c2e638a23a",
   "metadata": {},
   "source": [
    "We also need to make sure that values that only appear in the duplicate columns of data23_agg are updated in the merged dataframe before removing these columns."
   ]
  },
  {
   "cell_type": "code",
   "execution_count": 20,
   "id": "9bcfe8ca-464f-4252-8509-53a1bd31f752",
   "metadata": {},
   "outputs": [],
   "source": [
    "for col in data22_agg.columns:\n",
    "    if col != 'id_personne' and col + '_y' in data22_23_merged.columns:\n",
    "        data22_23_merged[col] = data22_23_merged[col].combine_first(data22_23_merged[col + '_y'])"
   ]
  },
  {
   "cell_type": "code",
   "execution_count": 21,
   "id": "64a4bce3-6187-4ee2-8914-37368d77270a",
   "metadata": {},
   "outputs": [],
   "source": [
    "data22_23_merged.drop(data22_23_merged.filter(regex='_y$').columns, axis=1, inplace=True)"
   ]
  },
  {
   "cell_type": "code",
   "execution_count": 22,
   "id": "8494788f-44f7-4131-827d-cbbd8413a918",
   "metadata": {
    "scrolled": true
   },
   "outputs": [],
   "source": [
    "full_data = pd.merge(data22_23_merged, data24_agg, on='id_personne', how='outer', suffixes=('', '_y'))"
   ]
  },
  {
   "cell_type": "code",
   "execution_count": 23,
   "id": "aabe221b-9c6e-4248-bb0d-99f9fb281f7b",
   "metadata": {},
   "outputs": [],
   "source": [
    "for col in data22_23_merged.columns:\n",
    "    if col != 'id_personne' and col + '_y' in full_data.columns:\n",
    "        full_data[col] = full_data[col].combine_first(full_data[col + '_y'])"
   ]
  },
  {
   "cell_type": "code",
   "execution_count": 24,
   "id": "352ee921-bf70-4a12-b26d-d30692399c67",
   "metadata": {},
   "outputs": [],
   "source": [
    "full_data.drop(full_data.filter(regex='_y$').columns, axis=1, inplace=True)"
   ]
  },
  {
   "cell_type": "markdown",
   "id": "6e389ca6-8e95-4254-90eb-016a159dfa17",
   "metadata": {},
   "source": [
    "We now have the final dataframe we will use for clustering "
   ]
  },
  {
   "cell_type": "code",
   "execution_count": 25,
   "id": "d5ddcbc9-eb72-4b16-9656-fc5aec583271",
   "metadata": {},
   "outputs": [
    {
     "data": {
      "text/html": [
       "<div>\n",
       "<style scoped>\n",
       "    .dataframe tbody tr th:only-of-type {\n",
       "        vertical-align: middle;\n",
       "    }\n",
       "\n",
       "    .dataframe tbody tr th {\n",
       "        vertical-align: top;\n",
       "    }\n",
       "\n",
       "    .dataframe thead th {\n",
       "        text-align: right;\n",
       "    }\n",
       "</style>\n",
       "<table border=\"1\" class=\"dataframe\">\n",
       "  <thead>\n",
       "    <tr style=\"text-align: right;\">\n",
       "      <th></th>\n",
       "      <th>entite_eco</th>\n",
       "      <th>personne_morale</th>\n",
       "      <th>annee_soins</th>\n",
       "      <th>colloc</th>\n",
       "      <th>adh_fac</th>\n",
       "      <th>type_cont</th>\n",
       "      <th>genre</th>\n",
       "      <th>code_postal</th>\n",
       "      <th>Age22</th>\n",
       "      <th>type_benef</th>\n",
       "      <th>...</th>\n",
       "      <th>fra_0724</th>\n",
       "      <th>fra_0824</th>\n",
       "      <th>delta_0124</th>\n",
       "      <th>delta_0224</th>\n",
       "      <th>delta_0324</th>\n",
       "      <th>delta_0424</th>\n",
       "      <th>delta_0524</th>\n",
       "      <th>delta_0624</th>\n",
       "      <th>delta_0724</th>\n",
       "      <th>delta_0824</th>\n",
       "    </tr>\n",
       "    <tr>\n",
       "      <th>id_personne</th>\n",
       "      <th></th>\n",
       "      <th></th>\n",
       "      <th></th>\n",
       "      <th></th>\n",
       "      <th></th>\n",
       "      <th></th>\n",
       "      <th></th>\n",
       "      <th></th>\n",
       "      <th></th>\n",
       "      <th></th>\n",
       "      <th></th>\n",
       "      <th></th>\n",
       "      <th></th>\n",
       "      <th></th>\n",
       "      <th></th>\n",
       "      <th></th>\n",
       "      <th></th>\n",
       "      <th></th>\n",
       "      <th></th>\n",
       "      <th></th>\n",
       "      <th></th>\n",
       "    </tr>\n",
       "  </thead>\n",
       "  <tbody>\n",
       "    <tr>\n",
       "      <th>0000031a283216ec643bea5b46511325bb088033d75a379188a37162cf4ebb10</th>\n",
       "      <td>EE7</td>\n",
       "      <td>PM7</td>\n",
       "      <td>2022.0</td>\n",
       "      <td>non</td>\n",
       "      <td>non</td>\n",
       "      <td>0.0</td>\n",
       "      <td>Femme</td>\n",
       "      <td>13540.0</td>\n",
       "      <td>45.0</td>\n",
       "      <td>Salarié</td>\n",
       "      <td>...</td>\n",
       "      <td>NaN</td>\n",
       "      <td>NaN</td>\n",
       "      <td>NaN</td>\n",
       "      <td>NaN</td>\n",
       "      <td>NaN</td>\n",
       "      <td>NaN</td>\n",
       "      <td>NaN</td>\n",
       "      <td>NaN</td>\n",
       "      <td>NaN</td>\n",
       "      <td>NaN</td>\n",
       "    </tr>\n",
       "    <tr>\n",
       "      <th>00002650c3250e7fe5b197f45a27ab2e4fc38c1cdee65ce8e08a43186b8ac4b8</th>\n",
       "      <td>EE2703</td>\n",
       "      <td>PM3563</td>\n",
       "      <td>2022.0</td>\n",
       "      <td>non</td>\n",
       "      <td>non</td>\n",
       "      <td>0.0</td>\n",
       "      <td>Enfant</td>\n",
       "      <td>41000.0</td>\n",
       "      <td>10.0</td>\n",
       "      <td>Enfant mineur</td>\n",
       "      <td>...</td>\n",
       "      <td>NaN</td>\n",
       "      <td>NaN</td>\n",
       "      <td>NaN</td>\n",
       "      <td>NaN</td>\n",
       "      <td>NaN</td>\n",
       "      <td>NaN</td>\n",
       "      <td>NaN</td>\n",
       "      <td>NaN</td>\n",
       "      <td>NaN</td>\n",
       "      <td>NaN</td>\n",
       "    </tr>\n",
       "    <tr>\n",
       "      <th>0000329a0a7e29081ee5dafa006d627f7eb4db82c046ad2f36f609ccd3101a63</th>\n",
       "      <td>EE1979</td>\n",
       "      <td>PM2</td>\n",
       "      <td>2022.0</td>\n",
       "      <td>0</td>\n",
       "      <td>0</td>\n",
       "      <td>0.0</td>\n",
       "      <td>Enfant</td>\n",
       "      <td>99999.0</td>\n",
       "      <td>3.0</td>\n",
       "      <td>Enfant mineur</td>\n",
       "      <td>...</td>\n",
       "      <td>0.0</td>\n",
       "      <td>0.0</td>\n",
       "      <td>0.0</td>\n",
       "      <td>0.0</td>\n",
       "      <td>0.0</td>\n",
       "      <td>0.0</td>\n",
       "      <td>0.0</td>\n",
       "      <td>0.0</td>\n",
       "      <td>0.0</td>\n",
       "      <td>0.0</td>\n",
       "    </tr>\n",
       "    <tr>\n",
       "      <th>00003cd2efe009e8bfea54a7de13f162e5359495da8cf9f04258104c845ffdfe</th>\n",
       "      <td>EE2948</td>\n",
       "      <td>PM3908</td>\n",
       "      <td>2022.0</td>\n",
       "      <td>non</td>\n",
       "      <td>non</td>\n",
       "      <td>0.0</td>\n",
       "      <td>Enfant</td>\n",
       "      <td>75018.0</td>\n",
       "      <td>26.0</td>\n",
       "      <td>Enfant majeur</td>\n",
       "      <td>...</td>\n",
       "      <td>NaN</td>\n",
       "      <td>NaN</td>\n",
       "      <td>NaN</td>\n",
       "      <td>NaN</td>\n",
       "      <td>NaN</td>\n",
       "      <td>NaN</td>\n",
       "      <td>NaN</td>\n",
       "      <td>NaN</td>\n",
       "      <td>NaN</td>\n",
       "      <td>NaN</td>\n",
       "    </tr>\n",
       "    <tr>\n",
       "      <th>0000458142f363a32276d020258f637fa4b173c8471e6e73049eadea49753db1</th>\n",
       "      <td>EE2149</td>\n",
       "      <td>PM2680</td>\n",
       "      <td>2022.0</td>\n",
       "      <td>non</td>\n",
       "      <td>non</td>\n",
       "      <td>0.0</td>\n",
       "      <td>Homme</td>\n",
       "      <td>33400.0</td>\n",
       "      <td>32.0</td>\n",
       "      <td>Salarié</td>\n",
       "      <td>...</td>\n",
       "      <td>0.0</td>\n",
       "      <td>0.0</td>\n",
       "      <td>0.0</td>\n",
       "      <td>0.0</td>\n",
       "      <td>0.0</td>\n",
       "      <td>0.0</td>\n",
       "      <td>0.0</td>\n",
       "      <td>0.0</td>\n",
       "      <td>0.0</td>\n",
       "      <td>0.0</td>\n",
       "    </tr>\n",
       "  </tbody>\n",
       "</table>\n",
       "<p>5 rows × 150 columns</p>\n",
       "</div>"
      ],
      "text/plain": [
       "                                                   entite_eco personne_morale  \\\n",
       "id_personne                                                                     \n",
       "0000031a283216ec643bea5b46511325bb088033d75a379...        EE7             PM7   \n",
       "00002650c3250e7fe5b197f45a27ab2e4fc38c1cdee65ce...     EE2703          PM3563   \n",
       "0000329a0a7e29081ee5dafa006d627f7eb4db82c046ad2...     EE1979             PM2   \n",
       "00003cd2efe009e8bfea54a7de13f162e5359495da8cf9f...     EE2948          PM3908   \n",
       "0000458142f363a32276d020258f637fa4b173c8471e6e7...     EE2149          PM2680   \n",
       "\n",
       "                                                    annee_soins colloc  \\\n",
       "id_personne                                                              \n",
       "0000031a283216ec643bea5b46511325bb088033d75a379...       2022.0    non   \n",
       "00002650c3250e7fe5b197f45a27ab2e4fc38c1cdee65ce...       2022.0    non   \n",
       "0000329a0a7e29081ee5dafa006d627f7eb4db82c046ad2...       2022.0      0   \n",
       "00003cd2efe009e8bfea54a7de13f162e5359495da8cf9f...       2022.0    non   \n",
       "0000458142f363a32276d020258f637fa4b173c8471e6e7...       2022.0    non   \n",
       "\n",
       "                                                   adh_fac  type_cont   genre  \\\n",
       "id_personne                                                                     \n",
       "0000031a283216ec643bea5b46511325bb088033d75a379...     non        0.0   Femme   \n",
       "00002650c3250e7fe5b197f45a27ab2e4fc38c1cdee65ce...     non        0.0  Enfant   \n",
       "0000329a0a7e29081ee5dafa006d627f7eb4db82c046ad2...       0        0.0  Enfant   \n",
       "00003cd2efe009e8bfea54a7de13f162e5359495da8cf9f...     non        0.0  Enfant   \n",
       "0000458142f363a32276d020258f637fa4b173c8471e6e7...     non        0.0   Homme   \n",
       "\n",
       "                                                   code_postal  Age22  \\\n",
       "id_personne                                                             \n",
       "0000031a283216ec643bea5b46511325bb088033d75a379...     13540.0   45.0   \n",
       "00002650c3250e7fe5b197f45a27ab2e4fc38c1cdee65ce...     41000.0   10.0   \n",
       "0000329a0a7e29081ee5dafa006d627f7eb4db82c046ad2...     99999.0    3.0   \n",
       "00003cd2efe009e8bfea54a7de13f162e5359495da8cf9f...     75018.0   26.0   \n",
       "0000458142f363a32276d020258f637fa4b173c8471e6e7...     33400.0   32.0   \n",
       "\n",
       "                                                       type_benef  ...  \\\n",
       "id_personne                                                        ...   \n",
       "0000031a283216ec643bea5b46511325bb088033d75a379...        Salarié  ...   \n",
       "00002650c3250e7fe5b197f45a27ab2e4fc38c1cdee65ce...  Enfant mineur  ...   \n",
       "0000329a0a7e29081ee5dafa006d627f7eb4db82c046ad2...  Enfant mineur  ...   \n",
       "00003cd2efe009e8bfea54a7de13f162e5359495da8cf9f...  Enfant majeur  ...   \n",
       "0000458142f363a32276d020258f637fa4b173c8471e6e7...        Salarié  ...   \n",
       "\n",
       "                                                   fra_0724 fra_0824  \\\n",
       "id_personne                                                            \n",
       "0000031a283216ec643bea5b46511325bb088033d75a379...      NaN      NaN   \n",
       "00002650c3250e7fe5b197f45a27ab2e4fc38c1cdee65ce...      NaN      NaN   \n",
       "0000329a0a7e29081ee5dafa006d627f7eb4db82c046ad2...      0.0      0.0   \n",
       "00003cd2efe009e8bfea54a7de13f162e5359495da8cf9f...      NaN      NaN   \n",
       "0000458142f363a32276d020258f637fa4b173c8471e6e7...      0.0      0.0   \n",
       "\n",
       "                                                    delta_0124  delta_0224  \\\n",
       "id_personne                                                                  \n",
       "0000031a283216ec643bea5b46511325bb088033d75a379...         NaN         NaN   \n",
       "00002650c3250e7fe5b197f45a27ab2e4fc38c1cdee65ce...         NaN         NaN   \n",
       "0000329a0a7e29081ee5dafa006d627f7eb4db82c046ad2...         0.0         0.0   \n",
       "00003cd2efe009e8bfea54a7de13f162e5359495da8cf9f...         NaN         NaN   \n",
       "0000458142f363a32276d020258f637fa4b173c8471e6e7...         0.0         0.0   \n",
       "\n",
       "                                                    delta_0324  delta_0424  \\\n",
       "id_personne                                                                  \n",
       "0000031a283216ec643bea5b46511325bb088033d75a379...         NaN         NaN   \n",
       "00002650c3250e7fe5b197f45a27ab2e4fc38c1cdee65ce...         NaN         NaN   \n",
       "0000329a0a7e29081ee5dafa006d627f7eb4db82c046ad2...         0.0         0.0   \n",
       "00003cd2efe009e8bfea54a7de13f162e5359495da8cf9f...         NaN         NaN   \n",
       "0000458142f363a32276d020258f637fa4b173c8471e6e7...         0.0         0.0   \n",
       "\n",
       "                                                    delta_0524  delta_0624  \\\n",
       "id_personne                                                                  \n",
       "0000031a283216ec643bea5b46511325bb088033d75a379...         NaN         NaN   \n",
       "00002650c3250e7fe5b197f45a27ab2e4fc38c1cdee65ce...         NaN         NaN   \n",
       "0000329a0a7e29081ee5dafa006d627f7eb4db82c046ad2...         0.0         0.0   \n",
       "00003cd2efe009e8bfea54a7de13f162e5359495da8cf9f...         NaN         NaN   \n",
       "0000458142f363a32276d020258f637fa4b173c8471e6e7...         0.0         0.0   \n",
       "\n",
       "                                                    delta_0724  delta_0824  \n",
       "id_personne                                                                 \n",
       "0000031a283216ec643bea5b46511325bb088033d75a379...         NaN         NaN  \n",
       "00002650c3250e7fe5b197f45a27ab2e4fc38c1cdee65ce...         NaN         NaN  \n",
       "0000329a0a7e29081ee5dafa006d627f7eb4db82c046ad2...         0.0         0.0  \n",
       "00003cd2efe009e8bfea54a7de13f162e5359495da8cf9f...         NaN         NaN  \n",
       "0000458142f363a32276d020258f637fa4b173c8471e6e7...         0.0         0.0  \n",
       "\n",
       "[5 rows x 150 columns]"
      ]
     },
     "execution_count": 25,
     "metadata": {},
     "output_type": "execute_result"
    }
   ],
   "source": [
    "full_data.head()"
   ]
  },
  {
   "cell_type": "markdown",
   "id": "76584ce2-f035-4bd0-bcb3-42baea15bd9e",
   "metadata": {},
   "source": [
    "## 3) Encoding the categorical variables in the columns for clustering"
   ]
  },
  {
   "cell_type": "markdown",
   "id": "38767dd1-272a-4c62-8b05-471e7d59c232",
   "metadata": {},
   "source": [
    "We will first encode the 'type_benef' column. We will use one-hot encoding as this column takes only 5 different values."
   ]
  },
  {
   "cell_type": "code",
   "execution_count": 26,
   "id": "7a258d9e-7673-4d4a-b3b6-c98d582173ec",
   "metadata": {},
   "outputs": [
    {
     "data": {
      "text/plain": [
       "{'Autre', 'Conjoint', 'Enfant majeur', 'Enfant mineur', 'Salarié'}"
      ]
     },
     "execution_count": 26,
     "metadata": {},
     "output_type": "execute_result"
    }
   ],
   "source": [
    "set(full_data['type_benef'].values)"
   ]
  },
  {
   "cell_type": "code",
   "execution_count": 27,
   "id": "83cda9c6-6f75-40a1-b91f-e3888a2eb2b3",
   "metadata": {},
   "outputs": [],
   "source": [
    "full_data = pd.get_dummies(full_data, columns=['type_benef'], prefix='category')"
   ]
  },
  {
   "cell_type": "markdown",
   "id": "c483a12c-7635-46c4-bc14-51d8649417ff",
   "metadata": {},
   "source": [
    "We will now use the same encoding for the \"genre\" and \"Foyer22\" columns as they have only four and ten distinct values"
   ]
  },
  {
   "cell_type": "code",
   "execution_count": 29,
   "id": "7e5c25b8-c7fc-4183-9cd7-b6318165466d",
   "metadata": {},
   "outputs": [
    {
     "data": {
      "text/plain": [
       "{'Enfant', 'Femme', 'Homme', 'Pas de donnees'}"
      ]
     },
     "execution_count": 29,
     "metadata": {},
     "output_type": "execute_result"
    }
   ],
   "source": [
    "set(full_data['genre'].values)"
   ]
  },
  {
   "cell_type": "code",
   "execution_count": 30,
   "id": "6923bcca-1241-4579-a0b2-7a2c093de7dd",
   "metadata": {},
   "outputs": [],
   "source": [
    "full_data = pd.get_dummies(full_data, columns=['genre'], prefix='category')"
   ]
  },
  {
   "cell_type": "code",
   "execution_count": 32,
   "id": "8de52cac-771a-4f91-aee9-3ed7e20d6f89",
   "metadata": {},
   "outputs": [
    {
     "data": {
      "text/plain": [
       "{'ND',\n",
       " 'Salarié et 1 enfant',\n",
       " 'Salarié et 2 enfants',\n",
       " 'Salarié et 3+ enfants',\n",
       " 'Salarié et conjoint et 1 enfant',\n",
       " 'Salarié et conjoint et 2 enfants',\n",
       " 'Salarié et conjoint et 3+ enfants',\n",
       " 'Salarié et conjoint sans enfant',\n",
       " 'Salarié seul',\n",
       " nan}"
      ]
     },
     "execution_count": 32,
     "metadata": {},
     "output_type": "execute_result"
    }
   ],
   "source": [
    "set(full_data['Foyer22'].values)"
   ]
  },
  {
   "cell_type": "code",
   "execution_count": 33,
   "id": "764972f2-5d96-4ec3-9b92-9dbaafff9578",
   "metadata": {},
   "outputs": [],
   "source": [
    "full_data = pd.get_dummies(full_data, columns=['Foyer22'], prefix='category')"
   ]
  },
  {
   "cell_type": "markdown",
   "id": "b056feb2-8c24-4909-ac1f-e3da4233a900",
   "metadata": {},
   "source": [
    "We will now encode the 'tranche_age22' column. This time we will use ordinal encoding to keep a relation of order between the distinct values the vartiable takes"
   ]
  },
  {
   "cell_type": "code",
   "execution_count": 38,
   "id": "ede92de7-3fe7-44b1-a63c-ca9eeb55332c",
   "metadata": {},
   "outputs": [
    {
     "data": {
      "text/plain": [
       "{'[0; 18[',\n",
       " '[18; 24[',\n",
       " '[20.0; 25.0[',\n",
       " '[25.0; 30.0[',\n",
       " '[30.0; 35.0[',\n",
       " '[35.0; 40.0[',\n",
       " '[40.0; 45.0[',\n",
       " '[45.0; 50.0[',\n",
       " '[50.0; 55.0[',\n",
       " '[55.0; 60.0[',\n",
       " '[60.0; 65.0[',\n",
       " '[65 et +[',\n",
       " nan}"
      ]
     },
     "execution_count": 38,
     "metadata": {},
     "output_type": "execute_result"
    }
   ],
   "source": [
    "set(full_data['tranche_age22'].values)"
   ]
  },
  {
   "cell_type": "code",
   "execution_count": 39,
   "id": "d80af553-0521-42bf-a972-6528840654ed",
   "metadata": {
    "scrolled": true
   },
   "outputs": [
    {
     "name": "stderr",
     "output_type": "stream",
     "text": [
      "/tmp/ipykernel_6944/3330550080.py:1: FutureWarning: Downcasting behavior in `replace` is deprecated and will be removed in a future version. To retain the old behavior, explicitly call `result.infer_objects(copy=False)`. To opt-in to the future behavior, set `pd.set_option('future.no_silent_downcasting', True)`\n",
      "  full_data['tranche_age22'] = full_data['tranche_age22'].replace({'[0; 18[': 1, '[18; 24[': 2, '[20.0; 25.0[': 3, '[25.0; 30.0[': 4, '[30.0; 35.0[': 5, '[35.0; 40.0[': 6,\n"
     ]
    }
   ],
   "source": [
    "full_data['tranche_age22'] = full_data['tranche_age22'].replace({'[0; 18[': 1, '[18; 24[': 2, '[20.0; 25.0[': 3, '[25.0; 30.0[': 4, '[30.0; 35.0[': 5, '[35.0; 40.0[': 6,\n",
    "                                                                '[40.0; 45.0[': 7, '[45.0; 50.0[': 8, '[50.0; 55.0[': 9, '[55.0; 60.0[': 10, '[60.0; 65.0[': 11, '[65 et +[': 12})"
   ]
  },
  {
   "cell_type": "markdown",
   "id": "b38fcd70-6622-46e1-ba64-857b347d8787",
   "metadata": {},
   "source": [
    "## Que faire des nan (211 000 nans)"
   ]
  }
 ],
 "metadata": {
  "kernelspec": {
   "display_name": "Python 3 (ipykernel)",
   "language": "python",
   "name": "python3"
  },
  "language_info": {
   "codemirror_mode": {
    "name": "ipython",
    "version": 3
   },
   "file_extension": ".py",
   "mimetype": "text/x-python",
   "name": "python",
   "nbconvert_exporter": "python",
   "pygments_lexer": "ipython3",
   "version": "3.12.7"
  }
 },
 "nbformat": 4,
 "nbformat_minor": 5
}
